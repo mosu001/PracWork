{
 "cells": [
  {
   "cell_type": "code",
   "execution_count": 1,
   "metadata": {},
   "outputs": [],
   "source": [
    "# Need to have OPEN_API_KEY set in your environment"
   ]
  },
  {
   "cell_type": "code",
   "execution_count": 2,
   "metadata": {},
   "outputs": [],
   "source": [
    "from langchain.document_loaders import PyPDFDirectoryLoader\n",
    "\n",
    "loader = PyPDFDirectoryLoader(\".\", glob=\"**/practical-work-*-ocr.pdf\")\n",
    "docs = loader.load()\n",
    "#print(docs)"
   ]
  },
  {
   "cell_type": "code",
   "execution_count": 3,
   "metadata": {},
   "outputs": [],
   "source": [
    "from langchain.embeddings.openai import OpenAIEmbeddings\n",
    "from langchain.vectorstores import Chroma\n",
    "\n",
    "embeddings = OpenAIEmbeddings()\n",
    "docsearch = Chroma.from_documents(docs, embeddings, persist_directory=\".\")\n",
    "docsearch.persist()"
   ]
  },
  {
   "cell_type": "code",
   "execution_count": 4,
   "metadata": {},
   "outputs": [],
   "source": [
    "from langchain.chains import ConversationalRetrievalChain\n",
    "from langchain.memory import ConversationBufferMemory\n",
    "from langchain.llms import OpenAI\n",
    "\n",
    "memory = ConversationBufferMemory(memory_key=\"chat_history\", return_messages=True)\n",
    "pdf_qa = ConversationalRetrievalChain.from_llm(OpenAI(temperature=0.8) , docsearch.as_retriever(), memory=memory)"
   ]
  },
  {
   "cell_type": "code",
   "execution_count": 14,
   "metadata": {},
   "outputs": [
    {
     "name": "stdout",
     "output_type": "stream",
     "text": [
      "Answer:\n"
     ]
    },
    {
     "data": {
      "text/plain": [
       "' The roles discussed in the documents include process engineer, training executive, HR team, and trainer. They are responsible for collecting signatures, preparing visual aid documents, checking the employees folders, updating job descriptions, attending SS and Kaizen trainings, and improving processes.'"
      ]
     },
     "execution_count": 14,
     "metadata": {},
     "output_type": "execute_result"
    }
   ],
   "source": [
    "query = \"What roles are described?\"\n",
    "result = pdf_qa({\"question\": query})\n",
    "print(\"Answer:\")\n",
    "result[\"answer\"]"
   ]
  },
  {
   "cell_type": "code",
   "execution_count": 15,
   "metadata": {},
   "outputs": [
    {
     "name": "stdout",
     "output_type": "stream",
     "text": [
      "Answer:\n"
     ]
    },
    {
     "data": {
      "text/plain": [
       "' The students worked for the full company name listed in the documents.'"
      ]
     },
     "execution_count": 15,
     "metadata": {},
     "output_type": "execute_result"
    }
   ],
   "source": [
    "query = \"Who did students work for in the docs?\"\n",
    "result = pdf_qa({\"question\": query})\n",
    "print(\"Answer:\")\n",
    "result[\"answer\"]"
   ]
  },
  {
   "cell_type": "code",
   "execution_count": 16,
   "metadata": {},
   "outputs": [
    {
     "name": "stdout",
     "output_type": "stream",
     "text": [
      "Answer:\n"
     ]
    },
    {
     "data": {
      "text/plain": [
       "' The full company names mentioned in this document are 11t11·~~\".1.• t\\\\,}\\'./J:: a r;<li, TG-p~\"\\'·:.! Wrap·~:1j Bhd., Bt 3S)lg;i, Ma:r~:,i ISdn., l:k~,\\'\"O\\'FA~, TGSHI>Iasti,,I Ind.San. Bhd., PdgLemhu.,·•·1 Garn,,, SAf3AID St1 1S8$ FoodlticJ.~ei,,/t/):cyhmft, and SUZBotl).'"
      ]
     },
     "execution_count": 16,
     "metadata": {},
     "output_type": "execute_result"
    }
   ],
   "source": [
    "query = \"What are all the full company names in the documents?\"\n",
    "result = pdf_qa({\"question\": query})\n",
    "print(\"Answer:\")\n",
    "result[\"answer\"]"
   ]
  },
  {
   "cell_type": "code",
   "execution_count": 18,
   "metadata": {},
   "outputs": [
    {
     "name": "stdout",
     "output_type": "stream",
     "text": [
      "Answer:\n"
     ]
    },
    {
     "data": {
      "text/plain": [
       "' Watercare Services Company Structure, Central Interceptor Project Team, and Workplace Amenities.'"
      ]
     },
     "execution_count": 18,
     "metadata": {},
     "output_type": "execute_result"
    }
   ],
   "source": [
    "query = \"Summarise the Company Information for Watercare from the documents\"\n",
    "result = pdf_qa({\"question\": query})\n",
    "print(\"Answer:\")\n",
    "result[\"answer\"]"
   ]
  },
  {
   "cell_type": "code",
   "execution_count": null,
   "metadata": {},
   "outputs": [],
   "source": []
  }
 ],
 "metadata": {
  "kernelspec": {
   "display_name": "llm",
   "language": "python",
   "name": "llm"
  },
  "language_info": {
   "codemirror_mode": {
    "name": "ipython",
    "version": 3
   },
   "file_extension": ".py",
   "mimetype": "text/x-python",
   "name": "python",
   "nbconvert_exporter": "python",
   "pygments_lexer": "ipython3",
   "version": "3.10.11"
  }
 },
 "nbformat": 4,
 "nbformat_minor": 2
}
