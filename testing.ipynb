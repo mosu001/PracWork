{
 "cells": [
  {
   "cell_type": "code",
   "execution_count": 1,
   "metadata": {},
   "outputs": [],
   "source": [
    "# Need to have OPEN_API_KEY set in your environment\n",
    "\n",
    "from langchain.agents import create_csv_agent\n",
    "\n",
    "from langchain.llms import OpenAI\n",
    "\n",
    "agent_new = create_csv_agent(OpenAI(temperature=0), 'pracwork_new.csv', verbose=True)\n",
    "agent_old = create_csv_agent(OpenAI(temperature=0), 'pracwork_old.csv', verbose=True)"
   ]
  },
  {
   "cell_type": "code",
   "execution_count": 2,
   "metadata": {},
   "outputs": [
    {
     "name": "stderr",
     "output_type": "stream",
     "text": [
      "Error in on_chain_start callback: 'name'\n"
     ]
    },
    {
     "name": "stdout",
     "output_type": "stream",
     "text": [
      "\u001b[32;1m\u001b[1;3mThought: I need to find the rows with the company name University Of Auckland and change it to The University Of Auckland\n",
      "Action: python_repl_ast\n",
      "Action Input: df.loc[df['Company Name'] == 'University Of Auckland', 'Company Name'] = 'The University Of Auckland'\u001b[0m\n",
      "Observation: \u001b[36;1m\u001b[1;3m\u001b[0m\n",
      "Thought:\u001b[32;1m\u001b[1;3m I should check that the change was successful\n",
      "Action: python_repl_ast\n",
      "Action Input: df.loc[df['Company Name'] == 'University Of Auckland']\u001b[0m\n",
      "Observation: \u001b[36;1m\u001b[1;3mEmpty DataFrame\n",
      "Columns: [ID, Student Name, Discipline, Company Name, Company Address, Company Country, Company Website, Supervisor, Supervisor Phone, Supervisor Email, Work From, Work To, Work Type, Registration Date]\n",
      "Index: []\u001b[0m\n",
      "Thought:\u001b[32;1m\u001b[1;3m I now know the change was successful\n",
      "Final Answer: The company name University Of Auckland has been changed to The University Of Auckland.\u001b[0m\n",
      "\n",
      "\u001b[1m> Finished chain.\u001b[0m\n"
     ]
    },
    {
     "data": {
      "text/plain": [
       "'The company name University Of Auckland has been changed to The University Of Auckland.'"
      ]
     },
     "execution_count": 2,
     "metadata": {},
     "output_type": "execute_result"
    }
   ],
   "source": [
    "agent_new.run(\"Make University Of Auckland and The University Of Auckland the same company\")"
   ]
  },
  {
   "cell_type": "code",
   "execution_count": 3,
   "metadata": {},
   "outputs": [
    {
     "name": "stderr",
     "output_type": "stream",
     "text": [
      "Error in on_chain_start callback: 'name'\n"
     ]
    },
    {
     "name": "stdout",
     "output_type": "stream",
     "text": [
      "\u001b[32;1m\u001b[1;3mThought: I need to group the data by company and count the number of projects\n",
      "Action: python_repl_ast\n",
      "Action Input: df.groupby('Company Name').count()['ID'].sort_values(ascending=False).head(10)\u001b[0m\n",
      "Observation: \u001b[36;1m\u001b[1;3mCompany Name\n",
      "The University Of Auckland           199\n",
      "Fisher And Paykel Healthcare          74\n",
      "Fisher  Paykel Healthcare             72\n",
      "Beca                                  48\n",
      "Auckland Transport                    43\n",
      "Auckland Bioengineering Institute     36\n",
      "Downer                                29\n",
      "Downer Nz                             25\n",
      "Aurecon                               24\n",
      "Tonkin  Taylor                        22\n",
      "Name: ID, dtype: int64\u001b[0m\n",
      "Thought:\u001b[32;1m\u001b[1;3m I now know the final answer\n",
      "Final Answer: The top 10 companies with the most projects are The University Of Auckland, Fisher And Paykel Healthcare, Fisher  Paykel Healthcare, Beca, Auckland Transport, Auckland Bioengineering Institute, Downer, Downer Nz, Aurecon, and Tonkin  Taylor.\u001b[0m\n",
      "\n",
      "\u001b[1m> Finished chain.\u001b[0m\n"
     ]
    },
    {
     "data": {
      "text/plain": [
       "'The top 10 companies with the most projects are The University Of Auckland, Fisher And Paykel Healthcare, Fisher  Paykel Healthcare, Beca, Auckland Transport, Auckland Bioengineering Institute, Downer, Downer Nz, Aurecon, and Tonkin  Taylor.'"
      ]
     },
     "execution_count": 3,
     "metadata": {},
     "output_type": "execute_result"
    }
   ],
   "source": [
    "agent_new.run(\"Count number of projects by company give me the top 10\")"
   ]
  },
  {
   "cell_type": "code",
   "execution_count": 4,
   "metadata": {},
   "outputs": [
    {
     "name": "stderr",
     "output_type": "stream",
     "text": [
      "Error in on_chain_start callback: 'name'\n"
     ]
    },
    {
     "name": "stdout",
     "output_type": "stream",
     "text": [
      "\u001b[32;1m\u001b[1;3mThought: I need to find any companies with Fisher + Paykel + Healthcare in their name\n",
      "Action: python_repl_ast\n",
      "Action Input: df[df['Company Name'].str.contains('Fisher + Paykel + Healthcare')]\u001b[0m\n",
      "Observation: \u001b[36;1m\u001b[1;3mValueError: Cannot mask with non-boolean array containing NA / NaN values\u001b[0m\n",
      "Thought:\u001b[32;1m\u001b[1;3m I need to use a different approach\n",
      "Action: python_repl_ast\n",
      "Action Input: df[df['Company Name'].str.contains('Fisher') & df['Company Name'].str.contains('Paykel') & df['Company Name'].str.contains('Healthcare')]\u001b[0m\n",
      "Observation: \u001b[36;1m\u001b[1;3m             ID     Student Name Discipline                  Company Name  \\\n",
      "43    142167246  Victoria Skeggs       SOFT  Fisher And Paykel Healthcare   \n",
      "59    541432211       Wenxuan Lu       ELEC  Fisher And Paykel Healthcare   \n",
      "67      6693979     Carl Velasco       MECT     Fisher  Paykel Healthcare   \n",
      "69    694475730   Aaryaman Desai       MECT  Fisher And Paykel Healthcare   \n",
      "112   981867593   Rishav Narayan       MECH     Fisher  Paykel Healthcare   \n",
      "...         ...              ...        ...                           ...   \n",
      "3875  286933069     Nikhil Kumar       CSYS  Fisher And Paykel Healthcare   \n",
      "3939  584332560        Ben Sharp       BIME  Fisher And Paykel Healthcare   \n",
      "3943  649574844  Benjamin Salmon       SOFT     Fisher  Paykel Healthcare   \n",
      "3974  750738161    Katherine Luo       CSYS  Fisher And Paykel Healthcare   \n",
      "4046  876469374       Ella Dixon       BIME  Fisher And Paykel Healthcare   \n",
      "\n",
      "                                        Company Address   Company Country  \\\n",
      "43                 15 Maurice Paykel Place, East Tamaki  New Zealand (NZ)   \n",
      "59    15 Maurice Paykel Place, East Tmaki, Auckland ...  New Zealand (NZ)   \n",
      "67    15 Maurice Paykel Place, East Tmaki, Auckland ...  New Zealand (NZ)   \n",
      "69    15 Maurice Paykel Place, East Tmaki, Auckland ...  New Zealand (NZ)   \n",
      "112   15 Maurice Paykel Place, East Tmaki, Auckland ...  New Zealand (NZ)   \n",
      "...                                                 ...               ...   \n",
      "3875                            15 Maurice Paykel Place  New Zealand (NZ)   \n",
      "3939  15 Maurice Paykel Place, East Tamaki, Auckland...  New Zealand (NZ)   \n",
      "3943                15 Maurice Paykel Place East Tamaki  New Zealand (NZ)   \n",
      "3974               15 Maurice Paykel Place, East Tamaki  New Zealand (NZ)   \n",
      "4046                            15 Maurice Paykel Place  New Zealand (NZ)   \n",
      "\n",
      "                  Company Website         Supervisor  \\\n",
      "43        https://www.fphcare.com         Sarah Lowe   \n",
      "59    https://www.fphcare.com/nz/     Rolando Bagunu   \n",
      "67    https://www.fphcare.com/nz/    Fernando Zapata   \n",
      "69    https://www.fphcare.com/nz/          Ruben Tan   \n",
      "112   https://www.fphcare.com/nz/       Peter Graham   \n",
      "...                           ...                ...   \n",
      "3875  https://www.fphcare.com/nz/  Vaspan Raimalwala   \n",
      "3939  https://www.fphcare.com/nz/       James Gordon   \n",
      "3943  https://www.fphcare.com/nz/    George Stirling   \n",
      "3974  https://www.fphcare.com/nz/        Hemita Sami   \n",
      "4046  https://www.fphcare.com/nz/       Mike Ronayne   \n",
      "\n",
      "              Supervisor Phone                 Supervisor Email   Work From  \\\n",
      "43             095740123x81383         sarah.lowe@fphcare.co.nz  11/19/2018   \n",
      "59         095740100 ext. 6132     rolando.bagunu@fphcare.co.nz  11/29/2021   \n",
      "67                    21512042    fernando.zapata@fphcare.co.nz  11/21/2016   \n",
      "69                   223067152              ruben.tan@gmail.com  11/20/2021   \n",
      "112   0064 9 574 0100 EXT 8535       peter.graham@fphcare.co.nz  11/22/2021   \n",
      "...                        ...                              ...         ...   \n",
      "3875                  95740123  vaspan.raimalwala@fphcare.co.nz   8/22/2022   \n",
      "3939                       NaN       james.gordon@fphcare.co.nz  11/22/2021   \n",
      "3943               64274266547    george.stirling@fphcare.co.nz  11/22/2021   \n",
      "3974                 210304146              h_chand@hotmail.com   9/13/2021   \n",
      "4046        095740123 ext 8745    michael.ronayne@fphcare.co.nz  11/18/2019   \n",
      "\n",
      "         Work To                  Work Type Registration Date  \n",
      "43     3/01/2019  General; Sub-Professional         8/17/2020  \n",
      "59     2/25/2022                    General         2/23/2022  \n",
      "67     2/24/2017                    General         3/21/2021  \n",
      "69     2/25/2022           Sub-Professional         8/08/2022  \n",
      "112    2/25/2022           Sub-Professional         2/18/2022  \n",
      "...          ...                        ...               ...  \n",
      "3875  12/15/2022              Not Available         8/24/2022  \n",
      "3939   2/25/2022           Sub-Professional        12/02/2021  \n",
      "3943   2/25/2022              Not Available         2/25/2022  \n",
      "3974   4/01/2022                    General         9/04/2022  \n",
      "4046   2/28/2020           Sub-Professional         2/24/2020  \n",
      "\n",
      "[154 rows x 14 columns]\u001b[0m\n",
      "Thought:\u001b[32;1m\u001b[1;3m I need to update the company name\n",
      "Action: python_repl_ast\n",
      "Action Input: df.loc[df['Company Name'].str.contains('Fisher') & df['Company Name'].str.contains('Paykel') & df['Company Name'].str.contains('Healthcare'), 'Company Name'] = 'Fisher and Paykel Healthcare'\u001b[0m\n",
      "Observation: \u001b[36;1m\u001b[1;3m\u001b[0m\n",
      "Thought:\u001b[32;1m\u001b[1;3m I now know the final answer\n",
      "Final Answer: All companies with Fisher + Paykel + Healthcare in their name have been updated to Fisher and Paykel Healthcare.\u001b[0m\n",
      "\n",
      "\u001b[1m> Finished chain.\u001b[0m\n"
     ]
    },
    {
     "data": {
      "text/plain": [
       "'All companies with Fisher + Paykel + Healthcare in their name have been updated to Fisher and Paykel Healthcare.'"
      ]
     },
     "execution_count": 4,
     "metadata": {},
     "output_type": "execute_result"
    }
   ],
   "source": [
    "agent_new.run(\"Turn any company with Fisher + Paykel + Healthcare in their name into Fisher and Paykel Healthcare the same company\")"
   ]
  },
  {
   "cell_type": "code",
   "execution_count": 5,
   "metadata": {},
   "outputs": [
    {
     "name": "stderr",
     "output_type": "stream",
     "text": [
      "Error in on_chain_start callback: 'name'\n"
     ]
    },
    {
     "name": "stdout",
     "output_type": "stream",
     "text": [
      "\u001b[32;1m\u001b[1;3mThought: I need to group the data by company and count the number of projects\n",
      "Action: python_repl_ast\n",
      "Action Input: df.groupby('Company Name').count()['ID'].sort_values(ascending=False).head(10)\u001b[0m\n",
      "Observation: \u001b[36;1m\u001b[1;3mCompany Name\n",
      "The University Of Auckland           199\n",
      "Fisher and Paykel Healthcare         154\n",
      "Beca                                  48\n",
      "Auckland Transport                    43\n",
      "Auckland Bioengineering Institute     36\n",
      "Downer                                29\n",
      "Downer Nz                             25\n",
      "Aurecon                               24\n",
      "Tonkin  Taylor                        22\n",
      "Wsp                                   19\n",
      "Name: ID, dtype: int64\u001b[0m\n",
      "Thought:\u001b[32;1m\u001b[1;3m I now know the final answer\n",
      "Final Answer: The top 10 companies with the most projects are The University Of Auckland, Fisher and Paykel Healthcare, Beca, Auckland Transport, Auckland Bioengineering Institute, Downer, Downer Nz, Aurecon, Tonkin  Taylor, and Wsp.\u001b[0m\n",
      "\n",
      "\u001b[1m> Finished chain.\u001b[0m\n"
     ]
    },
    {
     "data": {
      "text/plain": [
       "'The top 10 companies with the most projects are The University Of Auckland, Fisher and Paykel Healthcare, Beca, Auckland Transport, Auckland Bioengineering Institute, Downer, Downer Nz, Aurecon, Tonkin  Taylor, and Wsp.'"
      ]
     },
     "execution_count": 5,
     "metadata": {},
     "output_type": "execute_result"
    }
   ],
   "source": [
    "agent_new.run(\"Count number of projects by company give me the top 10\")"
   ]
  },
  {
   "cell_type": "code",
   "execution_count": null,
   "metadata": {},
   "outputs": [],
   "source": []
  },
  {
   "cell_type": "code",
   "execution_count": null,
   "metadata": {},
   "outputs": [],
   "source": []
  }
 ],
 "metadata": {
  "kernelspec": {
   "display_name": "llm",
   "language": "python",
   "name": "llm"
  },
  "language_info": {
   "codemirror_mode": {
    "name": "ipython",
    "version": 3
   },
   "file_extension": ".py",
   "mimetype": "text/x-python",
   "name": "python",
   "nbconvert_exporter": "python",
   "pygments_lexer": "ipython3",
   "version": "3.10.11"
  }
 },
 "nbformat": 4,
 "nbformat_minor": 2
}
